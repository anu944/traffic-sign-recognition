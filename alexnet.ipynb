{
 "cells": [
  {
   "cell_type": "code",
   "execution_count": null,
   "id": "7be5cfb6-2379-471e-a6c6-41ff10db2ba6",
   "metadata": {},
   "outputs": [],
   "source": [
    "import numpy as np\n",
    "import pandas as pd\n",
    "import matplotlib.pyplot as plt\n",
    "import seaborn as sns\n",
    "import warnings\n",
    "warnings.filterwarnings('ignore')"
   ]
  },
  {
   "cell_type": "code",
   "execution_count": null,
   "id": "cc11c1d5-0786-403f-9214-4439d15b544a",
   "metadata": {},
   "outputs": [],
   "source": [
    "    \n",
    "!kaggle datasets download msambare/fer2013"
   ]
  },
  {
   "cell_type": "code",
   "execution_count": null,
   "id": "1b2ab027-aa46-4e8a-a069-0058c4932ee4",
   "metadata": {},
   "outputs": [],
   "source": [
    "!unzip fer2013.zip -d /content/fer2013"
   ]
  },
  {
   "cell_type": "code",
   "execution_count": null,
   "id": "8171a728-2044-410b-951e-4309a544fbdb",
   "metadata": {},
   "outputs": [],
   "source": [
    "import tensorflow as tf\n",
    "from tensorflow.keras.preprocessing.image import ImageDataGenerator\n"
   ]
  }
 ],
 "metadata": {
  "kernelspec": {
   "display_name": "Python 3",
   "language": "python",
   "name": "python3"
  },
  "language_info": {
   "codemirror_mode": {
    "name": "ipython",
    "version": 3
   },
   "file_extension": ".py",
   "mimetype": "text/x-python",
   "name": "python",
   "nbconvert_exporter": "python",
   "pygments_lexer": "ipython3",
   "version": "3.10.10"
  }
 },
 "nbformat": 4,
 "nbformat_minor": 5
}
